{
 "cells": [
  {
   "cell_type": "code",
   "execution_count": 1,
   "id": "5bf31283",
   "metadata": {},
   "outputs": [],
   "source": [
    "import pandas as pd\n",
    "import numpy as np\n",
    "import matplotlib.pyplot as plt\n",
    "import seaborn as sns"
   ]
  },
  {
   "cell_type": "code",
   "execution_count": 2,
   "id": "e060f0de",
   "metadata": {},
   "outputs": [
    {
     "data": {
      "text/plain": [
       "(2000, 8)"
      ]
     },
     "execution_count": 2,
     "metadata": {},
     "output_type": "execute_result"
    }
   ],
   "source": [
    "df=pd.read_csv('cleaned_dataset.csv')\n",
    "df.shape"
   ]
  },
  {
   "cell_type": "code",
   "execution_count": 3,
   "id": "4c352c33",
   "metadata": {},
   "outputs": [],
   "source": [
    "from sklearn.linear_model import LinearRegression,RidgeCV,LassoCV\n",
    "from sklearn.preprocessing import PolynomialFeatures\n",
    "from sklearn.neighbors import KNeighborsRegressor\n",
    "from sklearn.svm import SVR\n",
    "from sklearn.tree import DecisionTreeRegressor\n",
    "from sklearn.ensemble import RandomForestRegressor,GradientBoostingRegressor,AdaBoostRegressor\n",
    "from xgboost import XGBRegressor\n",
    "from sklearn.model_selection import train_test_split\n",
    "from sklearn.metrics import mean_absolute_error,mean_squared_error, r2_score"
   ]
  },
  {
   "cell_type": "code",
   "execution_count": 4,
   "id": "7060a1b6",
   "metadata": {},
   "outputs": [],
   "source": [
    "X = df[[\"X1\", \"X3\", \"X5\", \"X6\", \"X7\", \"X8\"]]\n",
    "y = df[\"Y1\"]\n",
    "X_train, X_test, y_train, y_test = train_test_split(X, y, test_size=0.2, random_state=42)"
   ]
  },
  {
   "cell_type": "code",
   "execution_count": 5,
   "id": "6672c003",
   "metadata": {},
   "outputs": [
    {
     "name": "stdout",
     "output_type": "stream",
     "text": [
      "Using Train Test split\n",
      "                             MSE        R2\n",
      "LinearRegression        6.788114  0.914741\n",
      "Ridge                   6.786203  0.914765\n",
      "Lasso                   6.841158  0.914075\n",
      "Knn                     9.657288  0.878704\n",
      "SVM                    11.289046  0.858210\n",
      "DecisionTreeRegressor   3.390177  0.957419\n",
      "RandomForest            1.902213  0.976108\n",
      "GradientBoosting        2.080670  0.973867\n",
      "AdaBoost                5.736684  0.927947\n",
      "XGBoost                 1.958622  0.975400\n"
     ]
    }
   ],
   "source": [
    "models = {\n",
    "    \"LinearRegression\": LinearRegression(),\n",
    "    \"Ridge\": RidgeCV(),\n",
    "    \"Lasso\": LassoCV(),\n",
    "    \"Knn\" : KNeighborsRegressor(),\n",
    "    \"SVM\" : SVR(),\n",
    "    \"DecisionTreeRegressor\" : DecisionTreeRegressor(),\n",
    "    \"RandomForest\": RandomForestRegressor(),\n",
    "    \"GradientBoosting\": GradientBoostingRegressor(),\n",
    "    \"AdaBoost\" : AdaBoostRegressor(),\n",
    "    \"XGBoost\" : XGBRegressor()\n",
    "}\n",
    "\n",
    "results = {}\n",
    "\n",
    "for name, model in models.items():\n",
    "    model.fit(X_train, y_train)\n",
    "    y_pred = model.predict(X_test)\n",
    "    mae=mean_absolute_error(y_test,y_pred)\n",
    "    mse = mean_squared_error(y_test, y_pred)\n",
    "    r2 = r2_score(y_test, y_pred)\n",
    "    results[name] = {\"MSE\": mse, \"R2\": r2}\n",
    "results_df = pd.DataFrame(results).T\n",
    "print(\"Using Train Test split\")\n",
    "print(results_df)"
   ]
  },
  {
   "cell_type": "code",
   "execution_count": 6,
   "id": "74a83e78",
   "metadata": {},
   "outputs": [
    {
     "name": "stdout",
     "output_type": "stream",
     "text": [
      "Using K fold\n",
      "                       MSE mean    R2 mean\n",
      "LinearRegression        7.146332  0.911550\n",
      "Ridge                   7.145445  0.911561\n",
      "Lasso                   7.218666  0.910663\n",
      "Knn                    10.320367  0.872320\n",
      "SVM                    12.247289  0.848453\n",
      "DecisionTreeRegressor   4.009320  0.950527\n",
      "RandomForest            2.055743  0.973781\n",
      "GradientBoosting        2.041222  0.974707\n",
      "AdaBoost                5.342795  0.930979\n",
      "XGBoost                 1.991800  0.975366\n"
     ]
    }
   ],
   "source": [
    "from sklearn.model_selection import cross_val_score,KFold,StratifiedKFold\n",
    "kf=KFold(n_splits=5,shuffle=True,random_state=3)\n",
    "results = {}\n",
    "\n",
    "for name, model in models.items():\n",
    "    mse_scores = -cross_val_score(model, X, y, cv=kf, scoring=\"neg_mean_squared_error\")\n",
    "    r2_scores = cross_val_score(model, X, y, cv=kf, scoring=\"r2\")\n",
    "    results[name] = {\"MSE mean \": mse_scores.mean(),\"R2 mean\": r2_scores.mean()}\n",
    "results_df = pd.DataFrame(results).T\n",
    "print(\"Using K fold\")\n",
    "print(results_df)"
   ]
  },
  {
   "cell_type": "markdown",
   "id": "5c8435fc",
   "metadata": {},
   "source": [
    "GradientBoosting → MSE = 2.09, R² = 0.974\n",
    "\n",
    "RandomForest → MSE = 2.18, R² = 0.972\n",
    "\n",
    "XGBoost → MSE = 2.19, R² = 0.972"
   ]
  },
  {
   "cell_type": "code",
   "execution_count": 12,
   "id": "fe67a04b",
   "metadata": {},
   "outputs": [],
   "source": [
    "from sklearn.model_selection import GridSearchCV"
   ]
  },
  {
   "cell_type": "code",
   "execution_count": 8,
   "id": "f6213cc5",
   "metadata": {},
   "outputs": [],
   "source": [
    "param_grids = {\n",
    "    \"RandomForest\": {\n",
    "        \"n_estimators\": [100, 200, 300],\n",
    "        \"max_depth\": [None, 5, 10, 20],\n",
    "        \"min_samples_split\": [2, 5, 10],\n",
    "    },\n",
    "    \"GradientBoosting\": {\n",
    "        \"n_estimators\": [100, 200, 300],\n",
    "        \"learning_rate\": [0.01, 0.05, 0.1],\n",
    "        \"max_depth\": [3, 5, 7]\n",
    "    },\n",
    "    \"XGBoost\": {\n",
    "        \"n_estimators\": [100, 200, 300],\n",
    "        \"learning_rate\": [0.01, 0.05, 0.1],\n",
    "        \"max_depth\": [3, 5, 7],\n",
    "\n",
    "    }\n",
    "}"
   ]
  },
  {
   "cell_type": "code",
   "execution_count": 9,
   "id": "1265ca5d",
   "metadata": {},
   "outputs": [
    {
     "name": "stdout",
     "output_type": "stream",
     "text": [
      "Best Params: {'max_depth': None, 'min_samples_split': 2, 'n_estimators': 300}\n",
      "Best MSE: 2.686564436832934\n"
     ]
    }
   ],
   "source": [
    "rf = RandomForestRegressor(random_state=42)\n",
    "grid = GridSearchCV(\n",
    "    estimator=rf,\n",
    "    param_grid=param_grids[\"RandomForest\"],\n",
    "    cv=5,\n",
    "    scoring=\"neg_mean_squared_error\"\n",
    ")\n",
    "grid.fit(X, y)\n",
    "\n",
    "print(\"Best Params:\", grid.best_params_)\n",
    "print(\"Best MSE:\", -grid.best_score_)"
   ]
  },
  {
   "cell_type": "code",
   "execution_count": 10,
   "id": "943df267",
   "metadata": {},
   "outputs": [
    {
     "name": "stdout",
     "output_type": "stream",
     "text": [
      "Best Params: {'learning_rate': 0.1, 'max_depth': 5, 'n_estimators': 200}\n",
      "Best MSE: 2.1843651463740583\n"
     ]
    }
   ],
   "source": [
    "rf = GradientBoostingRegressor(random_state=42)\n",
    "grid = GridSearchCV(\n",
    "    estimator=rf,\n",
    "    param_grid=param_grids[\"GradientBoosting\"],\n",
    "    cv=5,\n",
    "    scoring=\"neg_mean_squared_error\"\n",
    ")\n",
    "grid.fit(X, y)\n",
    "\n",
    "print(\"Best Params:\", grid.best_params_)\n",
    "print(\"Best MSE:\", -grid.best_score_)"
   ]
  },
  {
   "cell_type": "code",
   "execution_count": 11,
   "id": "0ec52261",
   "metadata": {},
   "outputs": [
    {
     "name": "stdout",
     "output_type": "stream",
     "text": [
      "Best Params: {'learning_rate': 0.05, 'max_depth': 5, 'n_estimators': 300}\n",
      "Best MSE: 2.0807607500237557\n"
     ]
    }
   ],
   "source": [
    "rf = XGBRegressor(random_state=42)\n",
    "grid = GridSearchCV(\n",
    "    estimator=rf,\n",
    "    param_grid=param_grids[\"XGBoost\"],\n",
    "    cv=5,\n",
    "    scoring=\"neg_mean_squared_error\")\n",
    "grid.fit(X, y)\n",
    "\n",
    "print(\"Best Params:\", grid.best_params_)\n",
    "print(\"Best MSE:\", -grid.best_score_)"
   ]
  },
  {
   "cell_type": "markdown",
   "id": "02d31f4f",
   "metadata": {},
   "source": [
    "XGBoost performs the best (lowest MSE)."
   ]
  }
 ],
 "metadata": {
  "kernelspec": {
   "display_name": "pyai",
   "language": "python",
   "name": "python3"
  },
  "language_info": {
   "codemirror_mode": {
    "name": "ipython",
    "version": 3
   },
   "file_extension": ".py",
   "mimetype": "text/x-python",
   "name": "python",
   "nbconvert_exporter": "python",
   "pygments_lexer": "ipython3",
   "version": "3.12.11"
  }
 },
 "nbformat": 4,
 "nbformat_minor": 5
}
