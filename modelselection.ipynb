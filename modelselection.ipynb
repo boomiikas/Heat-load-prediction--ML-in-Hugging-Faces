{
 "cells": [
  {
   "cell_type": "code",
   "execution_count": 1,
   "id": "5bf31283",
   "metadata": {},
   "outputs": [],
   "source": [
    "import pandas as pd\n",
    "import numpy as np\n",
    "import matplotlib.pyplot as plt\n",
    "import seaborn as sns"
   ]
  },
  {
   "cell_type": "code",
   "execution_count": 2,
   "id": "e060f0de",
   "metadata": {},
   "outputs": [
    {
     "data": {
      "text/plain": [
       "(2000, 8)"
      ]
     },
     "execution_count": 2,
     "metadata": {},
     "output_type": "execute_result"
    }
   ],
   "source": [
    "df=pd.read_csv('cleaned_dataset.csv')\n",
    "df.shape"
   ]
  },
  {
   "cell_type": "code",
   "execution_count": 3,
   "id": "4c352c33",
   "metadata": {},
   "outputs": [],
   "source": [
    "from sklearn.linear_model import LinearRegression,RidgeCV,LassoCV\n",
    "from sklearn.preprocessing import PolynomialFeatures\n",
    "from sklearn.neighbors import KNeighborsRegressor\n",
    "from sklearn.svm import SVR\n",
    "from sklearn.tree import DecisionTreeRegressor\n",
    "from sklearn.ensemble import RandomForestRegressor,GradientBoostingRegressor,AdaBoostRegressor\n",
    "from xgboost import XGBRegressor\n",
    "from sklearn.model_selection import train_test_split\n",
    "from sklearn.metrics import mean_absolute_error,mean_squared_error, r2_score"
   ]
  },
  {
   "cell_type": "code",
   "execution_count": 4,
   "id": "7060a1b6",
   "metadata": {},
   "outputs": [],
   "source": [
    "X = df[[\"X1\", \"X3\", \"X5\", \"X6\", \"X7\", \"X8\"]]\n",
    "y = df[\"Y1\"]\n",
    "X_train, X_test, y_train, y_test = train_test_split(X, y, test_size=0.2, random_state=42)"
   ]
  },
  {
   "cell_type": "code",
   "execution_count": 5,
   "id": "6672c003",
   "metadata": {},
   "outputs": [
    {
     "name": "stdout",
     "output_type": "stream",
     "text": [
      "Using Train Test split\n",
      "                             MSE        R2\n",
      "LinearRegression        6.788114  0.914741\n",
      "Ridge                   6.786203  0.914765\n",
      "Lasso                   6.841158  0.914075\n",
      "Knn                     9.657288  0.878704\n",
      "SVM                    11.289046  0.858210\n",
      "DecisionTreeRegressor   3.372166  0.957646\n",
      "RandomForest            1.919505  0.975891\n",
      "GradientBoosting        2.084459  0.973819\n",
      "AdaBoost                5.793455  0.927234\n",
      "XGBoost                 1.958622  0.975400\n"
     ]
    }
   ],
   "source": [
    "models = {\n",
    "    \"LinearRegression\": LinearRegression(),\n",
    "    \"Ridge\": RidgeCV(),\n",
    "    \"Lasso\": LassoCV(),\n",
    "    \"Knn\" : KNeighborsRegressor(),\n",
    "    \"SVM\" : SVR(),\n",
    "    \"DecisionTreeRegressor\" : DecisionTreeRegressor(),\n",
    "    \"RandomForest\": RandomForestRegressor(),\n",
    "    \"GradientBoosting\": GradientBoostingRegressor(),\n",
    "    \"AdaBoost\" : AdaBoostRegressor(),\n",
    "    \"XGBoost\" : XGBRegressor()\n",
    "}\n",
    "\n",
    "results = {}\n",
    "\n",
    "for name, model in models.items():\n",
    "    model.fit(X_train, y_train)\n",
    "    y_pred = model.predict(X_test)\n",
    "    mae=mean_absolute_error(y_test,y_pred)\n",
    "    mse = mean_squared_error(y_test, y_pred)\n",
    "    r2 = r2_score(y_test, y_pred)\n",
    "    results[name] = {\"MSE\": mse, \"R2\": r2}\n",
    "results_df = pd.DataFrame(results).T\n",
    "print(\"Using Train Test split\")\n",
    "print(results_df)"
   ]
  },
  {
   "cell_type": "code",
   "execution_count": 6,
   "id": "74a83e78",
   "metadata": {},
   "outputs": [
    {
     "name": "stdout",
     "output_type": "stream",
     "text": [
      "Using K fold\n",
      "                       MSE mean    R2 mean\n",
      "LinearRegression        7.146332  0.911550\n",
      "Ridge                   7.145445  0.911561\n",
      "Lasso                   7.218666  0.910663\n",
      "Knn                    10.320367  0.872320\n",
      "SVM                    12.247289  0.848453\n",
      "DecisionTreeRegressor   4.017094  0.952451\n",
      "RandomForest            2.067530  0.974408\n",
      "GradientBoosting        2.038369  0.974750\n",
      "AdaBoost                5.337419  0.936128\n",
      "XGBoost                 1.991800  0.975366\n"
     ]
    }
   ],
   "source": [
    "from sklearn.model_selection import cross_val_score,KFold,StratifiedKFold\n",
    "kf=KFold(n_splits=5,shuffle=True,random_state=3)\n",
    "results = {}\n",
    "\n",
    "for name, model in models.items():\n",
    "    mse_scores = -cross_val_score(model, X, y, cv=kf, scoring=\"neg_mean_squared_error\")\n",
    "    r2_scores = cross_val_score(model, X, y, cv=kf, scoring=\"r2\")\n",
    "    results[name] = {\"MSE mean \": mse_scores.mean(),\"R2 mean\": r2_scores.mean()}\n",
    "results_df = pd.DataFrame(results).T\n",
    "print(\"Using K fold\")\n",
    "print(results_df)"
   ]
  },
  {
   "cell_type": "code",
   "execution_count": 13,
   "id": "885acb07",
   "metadata": {},
   "outputs": [
    {
     "data": {
      "text/html": [
       "<div>\n",
       "<style scoped>\n",
       "    .dataframe tbody tr th:only-of-type {\n",
       "        vertical-align: middle;\n",
       "    }\n",
       "\n",
       "    .dataframe tbody tr th {\n",
       "        vertical-align: top;\n",
       "    }\n",
       "\n",
       "    .dataframe thead th {\n",
       "        text-align: right;\n",
       "    }\n",
       "</style>\n",
       "<table border=\"1\" class=\"dataframe\">\n",
       "  <thead>\n",
       "    <tr style=\"text-align: right;\">\n",
       "      <th></th>\n",
       "      <th>Model</th>\n",
       "      <th>MSE Mean</th>\n",
       "      <th>R2 Mean</th>\n",
       "    </tr>\n",
       "  </thead>\n",
       "  <tbody>\n",
       "    <tr>\n",
       "      <th>9</th>\n",
       "      <td>XGBoost</td>\n",
       "      <td>1.991800</td>\n",
       "      <td>0.975366</td>\n",
       "    </tr>\n",
       "    <tr>\n",
       "      <th>7</th>\n",
       "      <td>GradientBoosting</td>\n",
       "      <td>2.038369</td>\n",
       "      <td>0.974750</td>\n",
       "    </tr>\n",
       "    <tr>\n",
       "      <th>6</th>\n",
       "      <td>RandomForest</td>\n",
       "      <td>2.067530</td>\n",
       "      <td>0.974408</td>\n",
       "    </tr>\n",
       "    <tr>\n",
       "      <th>5</th>\n",
       "      <td>DecisionTreeRegressor</td>\n",
       "      <td>4.017094</td>\n",
       "      <td>0.952451</td>\n",
       "    </tr>\n",
       "    <tr>\n",
       "      <th>8</th>\n",
       "      <td>AdaBoost</td>\n",
       "      <td>5.337419</td>\n",
       "      <td>0.936128</td>\n",
       "    </tr>\n",
       "    <tr>\n",
       "      <th>1</th>\n",
       "      <td>Ridge</td>\n",
       "      <td>7.145445</td>\n",
       "      <td>0.911561</td>\n",
       "    </tr>\n",
       "    <tr>\n",
       "      <th>0</th>\n",
       "      <td>LinearRegression</td>\n",
       "      <td>7.146332</td>\n",
       "      <td>0.911550</td>\n",
       "    </tr>\n",
       "    <tr>\n",
       "      <th>2</th>\n",
       "      <td>Lasso</td>\n",
       "      <td>7.218666</td>\n",
       "      <td>0.910663</td>\n",
       "    </tr>\n",
       "    <tr>\n",
       "      <th>3</th>\n",
       "      <td>KNN</td>\n",
       "      <td>10.320367</td>\n",
       "      <td>0.872320</td>\n",
       "    </tr>\n",
       "    <tr>\n",
       "      <th>4</th>\n",
       "      <td>SVM</td>\n",
       "      <td>12.247289</td>\n",
       "      <td>0.848453</td>\n",
       "    </tr>\n",
       "  </tbody>\n",
       "</table>\n",
       "</div>"
      ],
      "text/plain": [
       "                   Model   MSE Mean   R2 Mean\n",
       "9                XGBoost   1.991800  0.975366\n",
       "7       GradientBoosting   2.038369  0.974750\n",
       "6           RandomForest   2.067530  0.974408\n",
       "5  DecisionTreeRegressor   4.017094  0.952451\n",
       "8               AdaBoost   5.337419  0.936128\n",
       "1                  Ridge   7.145445  0.911561\n",
       "0       LinearRegression   7.146332  0.911550\n",
       "2                  Lasso   7.218666  0.910663\n",
       "3                    KNN  10.320367  0.872320\n",
       "4                    SVM  12.247289  0.848453"
      ]
     },
     "execution_count": 13,
     "metadata": {},
     "output_type": "execute_result"
    }
   ],
   "source": [
    "\n",
    "results = {\n",
    "    \"Model\": [\n",
    "        \"LinearRegression\",\n",
    "        \"Ridge\",\n",
    "        \"Lasso\",\n",
    "        \"KNN\",\n",
    "        \"SVM\",\n",
    "        \"DecisionTreeRegressor\",\n",
    "        \"RandomForest\",\n",
    "        \"GradientBoosting\",\n",
    "        \"AdaBoost\",\n",
    "        \"XGBoost\"\n",
    "    ],\n",
    "    \"MSE Mean\": [\n",
    "        7.146332,\n",
    "        7.145445,\n",
    "        7.218666,\n",
    "        10.320367,\n",
    "        12.247289,\n",
    "        4.017094,\n",
    "        2.067530,\n",
    "        2.038369,\n",
    "        5.337419,\n",
    "        1.991800\n",
    "    ],\n",
    "    \"R2 Mean\": [\n",
    "        0.911550,\n",
    "        0.911561,\n",
    "        0.910663,\n",
    "        0.872320,\n",
    "        0.848453,\n",
    "        0.952451,\n",
    "        0.974408,\n",
    "        0.974750,\n",
    "        0.936128,\n",
    "        0.975366\n",
    "    ]\n",
    "}\n",
    "\n",
    "df_results = pd.DataFrame(results)\n",
    "\n",
    "df_sorted = df_results.sort_values(by=\"R2 Mean\", ascending=False)\n",
    "df_sorted\n"
   ]
  },
  {
   "cell_type": "markdown",
   "id": "5c8435fc",
   "metadata": {},
   "source": [
    "GradientBoosting → MSE = 2.09, R² = 0.974\n",
    "\n",
    "RandomForest → MSE = 2.18, R² = 0.972\n",
    "\n",
    "XGBoost → MSE = 2.19, R² = 0.972"
   ]
  },
  {
   "cell_type": "code",
   "execution_count": 7,
   "id": "fe67a04b",
   "metadata": {},
   "outputs": [],
   "source": [
    "from sklearn.model_selection import GridSearchCV"
   ]
  },
  {
   "cell_type": "code",
   "execution_count": 8,
   "id": "f6213cc5",
   "metadata": {},
   "outputs": [],
   "source": [
    "param_grids = {\n",
    "    \"RandomForest\": {\n",
    "        \"n_estimators\": [100, 200, 300],\n",
    "        \"max_depth\": [None, 5, 10, 20],\n",
    "        \"min_samples_split\": [2, 5, 10],\n",
    "    },\n",
    "    \"GradientBoosting\": {\n",
    "        \"n_estimators\": [100, 200, 300],\n",
    "        \"learning_rate\": [0.01, 0.05, 0.1],\n",
    "        \"max_depth\": [3, 5, 7]\n",
    "    },\n",
    "    \"XGBoost\": {\n",
    "        \"n_estimators\": [100, 200, 300],\n",
    "        \"learning_rate\": [0.01, 0.05, 0.1],\n",
    "        \"max_depth\": [3, 5, 7],\n",
    "\n",
    "    }\n",
    "}"
   ]
  },
  {
   "cell_type": "code",
   "execution_count": 9,
   "id": "1265ca5d",
   "metadata": {},
   "outputs": [
    {
     "name": "stdout",
     "output_type": "stream",
     "text": [
      "Best Params: {'max_depth': None, 'min_samples_split': 2, 'n_estimators': 300}\n",
      "Best MSE: 2.686564436832934\n"
     ]
    }
   ],
   "source": [
    "rf = RandomForestRegressor(random_state=42)\n",
    "grid = GridSearchCV(\n",
    "    estimator=rf,\n",
    "    param_grid=param_grids[\"RandomForest\"],\n",
    "    cv=5,\n",
    "    scoring=\"neg_mean_squared_error\"\n",
    ")\n",
    "grid.fit(X, y)\n",
    "\n",
    "print(\"Best Params:\", grid.best_params_)\n",
    "print(\"Best MSE:\", -grid.best_score_)"
   ]
  },
  {
   "cell_type": "code",
   "execution_count": 10,
   "id": "943df267",
   "metadata": {},
   "outputs": [
    {
     "name": "stdout",
     "output_type": "stream",
     "text": [
      "Best Params: {'learning_rate': 0.1, 'max_depth': 5, 'n_estimators': 200}\n",
      "Best MSE: 2.1843651463740583\n"
     ]
    }
   ],
   "source": [
    "rf = GradientBoostingRegressor(random_state=42)\n",
    "grid = GridSearchCV(\n",
    "    estimator=rf,\n",
    "    param_grid=param_grids[\"GradientBoosting\"],\n",
    "    cv=5,\n",
    "    scoring=\"neg_mean_squared_error\"\n",
    ")\n",
    "grid.fit(X, y)\n",
    "\n",
    "print(\"Best Params:\", grid.best_params_)\n",
    "print(\"Best MSE:\", -grid.best_score_)"
   ]
  },
  {
   "cell_type": "code",
   "execution_count": 11,
   "id": "0ec52261",
   "metadata": {},
   "outputs": [
    {
     "name": "stdout",
     "output_type": "stream",
     "text": [
      "Best Params: {'learning_rate': 0.05, 'max_depth': 5, 'n_estimators': 300}\n",
      "Best MSE: 2.0807607500237557\n"
     ]
    }
   ],
   "source": [
    "rf = XGBRegressor(random_state=42)\n",
    "grid = GridSearchCV(\n",
    "    estimator=rf,\n",
    "    param_grid=param_grids[\"XGBoost\"],\n",
    "    cv=5,\n",
    "    scoring=\"neg_mean_squared_error\")\n",
    "grid.fit(X, y)\n",
    "\n",
    "print(\"Best Params:\", grid.best_params_)\n",
    "print(\"Best MSE:\", -grid.best_score_)"
   ]
  },
  {
   "cell_type": "code",
   "execution_count": 14,
   "id": "78830c42",
   "metadata": {},
   "outputs": [
    {
     "data": {
      "text/html": [
       "<div>\n",
       "<style scoped>\n",
       "    .dataframe tbody tr th:only-of-type {\n",
       "        vertical-align: middle;\n",
       "    }\n",
       "\n",
       "    .dataframe tbody tr th {\n",
       "        vertical-align: top;\n",
       "    }\n",
       "\n",
       "    .dataframe thead th {\n",
       "        text-align: right;\n",
       "    }\n",
       "</style>\n",
       "<table border=\"1\" class=\"dataframe\">\n",
       "  <thead>\n",
       "    <tr style=\"text-align: right;\">\n",
       "      <th></th>\n",
       "      <th>Model</th>\n",
       "      <th>Best Params</th>\n",
       "      <th>Best MSE</th>\n",
       "    </tr>\n",
       "  </thead>\n",
       "  <tbody>\n",
       "    <tr>\n",
       "      <th>2</th>\n",
       "      <td>XGBRegressor</td>\n",
       "      <td>{'learning_rate': 0.05, 'max_depth': 5, 'n_est...</td>\n",
       "      <td>2.080761</td>\n",
       "    </tr>\n",
       "    <tr>\n",
       "      <th>1</th>\n",
       "      <td>Gradient Boosting</td>\n",
       "      <td>{'learning_rate': 0.1, 'max_depth': 5, 'n_esti...</td>\n",
       "      <td>2.184365</td>\n",
       "    </tr>\n",
       "    <tr>\n",
       "      <th>0</th>\n",
       "      <td>Random Forest</td>\n",
       "      <td>{'max_depth': None, 'min_samples_split': 2, 'n...</td>\n",
       "      <td>2.686564</td>\n",
       "    </tr>\n",
       "  </tbody>\n",
       "</table>\n",
       "</div>"
      ],
      "text/plain": [
       "               Model                                        Best Params  \\\n",
       "2       XGBRegressor  {'learning_rate': 0.05, 'max_depth': 5, 'n_est...   \n",
       "1  Gradient Boosting  {'learning_rate': 0.1, 'max_depth': 5, 'n_esti...   \n",
       "0      Random Forest  {'max_depth': None, 'min_samples_split': 2, 'n...   \n",
       "\n",
       "   Best MSE  \n",
       "2  2.080761  \n",
       "1  2.184365  \n",
       "0  2.686564  "
      ]
     },
     "execution_count": 14,
     "metadata": {},
     "output_type": "execute_result"
    }
   ],
   "source": [
    "\n",
    "results = {\n",
    "    \"Model\": [\n",
    "        \"Random Forest\",\n",
    "        \"Gradient Boosting\",\n",
    "        \"XGBRegressor\"\n",
    "    ],\n",
    "    \"Best Params\": [\n",
    "        {\"max_depth\": None, \"min_samples_split\": 2, \"n_estimators\": 300},\n",
    "        {\"learning_rate\": 0.1, \"max_depth\": 5, \"n_estimators\": 200},\n",
    "        {\"learning_rate\": 0.05, \"max_depth\": 5, \"n_estimators\": 300}\n",
    "    ],\n",
    "    \"Best MSE\": [\n",
    "        2.686564436832934,\n",
    "        2.1843651463740583,\n",
    "        2.0807607500237557\n",
    "    ]\n",
    "}\n",
    "\n",
    "df_results = pd.DataFrame(results)\n",
    "df_sorted = df_results.sort_values(by=\"Best MSE\", ascending=True)\n",
    "df_sorted\n"
   ]
  },
  {
   "cell_type": "markdown",
   "id": "02d31f4f",
   "metadata": {},
   "source": [
    "XGBoost performs the best (lowest MSE)."
   ]
  }
 ],
 "metadata": {
  "kernelspec": {
   "display_name": "pyai",
   "language": "python",
   "name": "python3"
  },
  "language_info": {
   "codemirror_mode": {
    "name": "ipython",
    "version": 3
   },
   "file_extension": ".py",
   "mimetype": "text/x-python",
   "name": "python",
   "nbconvert_exporter": "python",
   "pygments_lexer": "ipython3",
   "version": "3.12.11"
  }
 },
 "nbformat": 4,
 "nbformat_minor": 5
}
